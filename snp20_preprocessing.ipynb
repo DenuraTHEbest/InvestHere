{
  "nbformat": 4,
  "nbformat_minor": 0,
  "metadata": {
    "colab": {
      "provenance": [],
      "authorship_tag": "ABX9TyPgCCF5haKJL30golVub185",
      "include_colab_link": true
    },
    "kernelspec": {
      "name": "python3",
      "display_name": "Python 3"
    },
    "language_info": {
      "name": "python"
    }
  },
  "cells": [
    {
      "cell_type": "markdown",
      "metadata": {
        "id": "view-in-github",
        "colab_type": "text"
      },
      "source": [
        "<a href=\"https://colab.research.google.com/github/DenuraTHEbest/InvestHere/blob/Amna_S/snp20_preprocessing.ipynb\" target=\"_parent\"><img src=\"https://colab.research.google.com/assets/colab-badge.svg\" alt=\"Open In Colab\"/></a>"
      ]
    },
    {
      "cell_type": "code",
      "execution_count": 4,
      "metadata": {
        "colab": {
          "base_uri": "https://localhost:8080/"
        },
        "id": "tLWSFPniGDVj",
        "outputId": "f1ae1247-7715-4d7a-cdea-03a9bda7ad32"
      },
      "outputs": [
        {
          "output_type": "stream",
          "name": "stdout",
          "text": [
            "Drive already mounted at /content/drive; to attempt to forcibly remount, call drive.mount(\"/content/drive\", force_remount=True).\n",
            "Date format conversion complete and columns filtered. Saved to S&P20_Data_Updated.csv\n"
          ]
        }
      ],
      "source": [
        "import pandas as pd\n",
        "from google.colab import drive\n",
        "drive.mount('/content/drive')\n",
        "\n",
        "\n",
        "# Load the CSV file from Google Drive\n",
        "snP20_data = pd.read_csv('/content/drive/My Drive/S&P20_data.csv')\n",
        "\n",
        "# Convert the 'Date' column from DD/MM/YYYY to YYYY-MM-DD format\n",
        "# Assuming the date column is named 'Date'\n",
        "snP20_data['Date'] = pd.to_datetime(snP20_data['Date'], format='%m/%d/%Y').dt.strftime('%Y-%m-%d')\n",
        "\n",
        "# Keep only the 'Date' and 'Price' columns (you can change 'Price' to the actual column name if needed)\n",
        "snP20_data_filtered = snP20_data[['Date', 'Price']]\n",
        "\n",
        "# Save the modified DataFrame back to a new CSV file in your Google Drive\n",
        "snP20_data_filtered.to_csv('/content/drive/My Drive/S&P20_Data2.csv', index=False)\n",
        "\n",
        "print(\"Date format conversion complete and columns filtered. Saved to S&P20_Data2.csv\")\n"
      ]
    }
  ]
}